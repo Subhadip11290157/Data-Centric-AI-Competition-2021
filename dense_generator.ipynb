{
  "nbformat": 4,
  "nbformat_minor": 0,
  "metadata": {
    "colab": {
      "name": "dense generator",
      "provenance": [],
      "collapsed_sections": []
    },
    "kernelspec": {
      "name": "python3",
      "display_name": "Python 3"
    },
    "language_info": {
      "name": "python"
    }
  },
  "cells": [
    {
      "cell_type": "code",
      "metadata": {
        "colab": {
          "base_uri": "https://localhost:8080/"
        },
        "id": "68ZmZKmztcMZ",
        "outputId": "940e16ec-4031-43e2-9e9e-07eed70d18c1"
      },
      "source": [
        "from google.colab import drive\n",
        "drive.mount('/content/drive')"
      ],
      "execution_count": null,
      "outputs": [
        {
          "output_type": "stream",
          "name": "stdout",
          "text": [
            "Drive already mounted at /content/drive; to attempt to forcibly remount, call drive.mount(\"/content/drive\", force_remount=True).\n"
          ]
        }
      ]
    },
    {
      "cell_type": "markdown",
      "metadata": {
        "id": "84nW16VpBtzt"
      },
      "source": [
        "# From here: vertical false for 4, 5, 6, 7, 8, 9\n",
        "# 1"
      ]
    },
    {
      "cell_type": "code",
      "metadata": {
        "id": "pIOEl23FzJkO"
      },
      "source": [
        "from keras.preprocessing.image import ImageDataGenerator, array_to_img, img_to_array, load_img\n",
        "\n",
        "datagen = ImageDataGenerator(\n",
        "        rotation_range=30,\n",
        "        width_shift_range=0.2,\n",
        "        height_shift_range=0.2,\n",
        "        shear_range=0.2,\n",
        "        zoom_range=0.2,\n",
        "        horizontal_flip=False,\n",
        "        vertical_flip=False,\n",
        "        fill_mode='nearest')\n",
        "\n",
        "img = load_img('/content/drive/MyDrive/My Projects/DATA CENTRIC AI HACKATHON/data/My Data/noise/seeds/dense/x/15.png')  # this is a PIL image\n",
        "x = img_to_array(img)  # this is a Numpy array with shape (1, 32, 32)\n",
        "x = x.reshape((1,) + x.shape)  # this is a Numpy array with shape (1, 1, 32, 32)\n",
        "\n",
        "# the .flow() command below generates batches of randomly transformed images\n",
        "# and saves the results to desired directory\n",
        "i = 0\n",
        "for batch in datagen.flow(x, batch_size=1,\n",
        "                          save_to_dir='/content/drive/MyDrive/My Projects/DATA CENTRIC AI HACKATHON/data/My Data/noise/generated/dense/x', save_prefix='type1_', save_format='png'):\n",
        "    i += 1\n",
        "    if i >= 3:\n",
        "        break  # otherwise the generator would loop indefinitely"
      ],
      "execution_count": null,
      "outputs": []
    },
    {
      "cell_type": "markdown",
      "metadata": {
        "id": "EiX7OxfW7fV3"
      },
      "source": [
        "#2"
      ]
    },
    {
      "cell_type": "code",
      "metadata": {
        "id": "hLSKNtWFxv8I"
      },
      "source": [
        "from keras.preprocessing.image import ImageDataGenerator, array_to_img, img_to_array, load_img\n",
        "\n",
        "datagen = ImageDataGenerator(\n",
        "        rotation_range=20,\n",
        "        width_shift_range=0.2,\n",
        "        height_shift_range=0.2,\n",
        "        shear_range=1.2,\n",
        "        zoom_range=0.01,\n",
        "        horizontal_flip=False,\n",
        "        vertical_flip=False,\n",
        "        fill_mode='nearest')\n",
        "\n",
        "img = load_img('/content/drive/MyDrive/My Projects/DATA CENTRIC AI HACKATHON/data/My Data/noise/seeds/dense/x/15.png')  # this is a PIL image\n",
        "x = img_to_array(img)  # this is a Numpy array with shape (1, 32, 32)\n",
        "x = x.reshape((1,) + x.shape)  # this is a Numpy array with shape (1, 1, 32, 32)\n",
        "\n",
        "# the .flow() command below generates batches of randomly transformed images\n",
        "# and saves the results to desired directory\n",
        "i = 0\n",
        "for batch in datagen.flow(x, batch_size=1,\n",
        "                          save_to_dir='/content/drive/MyDrive/My Projects/DATA CENTRIC AI HACKATHON/data/My Data/noise/generated/dense/x', save_prefix='type2_', save_format='png'):\n",
        "    i += 1\n",
        "    if i >= 3:\n",
        "        break  # otherwise the generator would loop indefinitely"
      ],
      "execution_count": null,
      "outputs": []
    },
    {
      "cell_type": "markdown",
      "metadata": {
        "id": "lx2I5pa67jY2"
      },
      "source": [
        "#3: "
      ]
    },
    {
      "cell_type": "code",
      "metadata": {
        "id": "PFBcV0e77itG"
      },
      "source": [
        "from keras.preprocessing.image import ImageDataGenerator, array_to_img, img_to_array, load_img\n",
        "\n",
        "datagen = ImageDataGenerator(\n",
        "        rotation_range=-15,\n",
        "        width_shift_range=0.2,\n",
        "        height_shift_range=0.2,\n",
        "        shear_range=0.2,\n",
        "        zoom_range=0.1,\n",
        "        horizontal_flip=False,\n",
        "        vertical_flip=False, \n",
        "        fill_mode='nearest')\n",
        "\n",
        "img = load_img('/content/drive/MyDrive/My Projects/DATA CENTRIC AI HACKATHON/data/My Data/noise/seeds/dense/x/15.png')  # this is a PIL image\n",
        "x = img_to_array(img)  # this is a Numpy array with shape (1, 32, 32)\n",
        "x = x.reshape((1,) + x.shape)  # this is a Numpy array with shape (1, 1, 32, 32)\n",
        "\n",
        "# the .flow() command below generates batches of randomly transformed images\n",
        "# and saves the results to desired directory\n",
        "i = 0\n",
        "for batch in datagen.flow(x, batch_size=1,\n",
        "                          save_to_dir='/content/drive/MyDrive/My Projects/DATA CENTRIC AI HACKATHON/data/My Data/noise/generated/dense/x', save_prefix='type3_', save_format='png'):\n",
        "    i += 1\n",
        "    if i >= 3 :\n",
        "        break  # otherwise the generator would loop indefinitely"
      ],
      "execution_count": null,
      "outputs": []
    },
    {
      "cell_type": "markdown",
      "metadata": {
        "id": "azG3vNVD7nd_"
      },
      "source": [
        "# 4"
      ]
    },
    {
      "cell_type": "code",
      "metadata": {
        "id": "mTlb26Yl7mxG"
      },
      "source": [
        "from keras.preprocessing.image import ImageDataGenerator, array_to_img, img_to_array, load_img\n",
        "\n",
        "datagen = ImageDataGenerator(\n",
        "        rotation_range=25,\n",
        "        width_shift_range=0.2,\n",
        "        height_shift_range=0.2,\n",
        "        shear_range=0.2,\n",
        "        zoom_range=0.1,\n",
        "        horizontal_flip=False,\n",
        "        vertical_flip=False,\n",
        "        fill_mode='nearest')\n",
        "\n",
        "img = load_img('/content/drive/MyDrive/My Projects/DATA CENTRIC AI HACKATHON/data/My Data/noise/seeds/dense/x/15.png')  # this is a PIL image\n",
        "x = img_to_array(img)  # this is a Numpy array with shape (1, 32, 32)\n",
        "x = x.reshape((1,) + x.shape)  # this is a Numpy array with shape (1, 1, 32, 32)\n",
        "\n",
        "# the .flow() command below generates batches of randomly transformed images\n",
        "# and saves the results to desired directory\n",
        "i = 0\n",
        "for batch in datagen.flow(x, batch_size=1,\n",
        "                          save_to_dir='/content/drive/MyDrive/My Projects/DATA CENTRIC AI HACKATHON/data/My Data/noise/generated/dense/x', save_prefix='type4_', save_format='png'):\n",
        "    i += 1\n",
        "    if i >= 3:\n",
        "        break  # otherwise the generator would loop indefinitely"
      ],
      "execution_count": null,
      "outputs": []
    },
    {
      "cell_type": "markdown",
      "metadata": {
        "id": "r8xvD2aO7rOm"
      },
      "source": [
        "# 5"
      ]
    },
    {
      "cell_type": "code",
      "metadata": {
        "id": "KPeQFj407qcW"
      },
      "source": [
        "from keras.preprocessing.image import ImageDataGenerator, array_to_img, img_to_array, load_img\n",
        "\n",
        "datagen = ImageDataGenerator(\n",
        "        rotation_range=-23,\n",
        "        width_shift_range=0.2,\n",
        "        height_shift_range=0.2,\n",
        "        shear_range=0.2,\n",
        "        zoom_range=0.2,\n",
        "        horizontal_flip=False,\n",
        "        vertical_flip=False,\n",
        "        fill_mode='nearest')\n",
        "\n",
        "img = load_img('/content/drive/MyDrive/My Projects/DATA CENTRIC AI HACKATHON/data/My Data/noise/seeds/dense/x/15.png')  # this is a PIL image\n",
        "x = img_to_array(img)  # this is a Numpy array with shape (1, 32, 32)\n",
        "x = x.reshape((1,) + x.shape)  # this is a Numpy array with shape (1, 1, 32, 32)\n",
        "\n",
        "# the .flow() command below generates batches of randomly transformed images\n",
        "# and saves the results to desired directory\n",
        "i = 0\n",
        "for batch in datagen.flow(x, batch_size=1,\n",
        "                          save_to_dir='/content/drive/MyDrive/My Projects/DATA CENTRIC AI HACKATHON/data/My Data/noise/generated/dense/x', save_prefix='type5_', save_format='png'):\n",
        "    i += 1\n",
        "    if i >= 3:\n",
        "        break  # otherwise the generator would loop indefinitely"
      ],
      "execution_count": null,
      "outputs": []
    },
    {
      "cell_type": "code",
      "metadata": {
        "id": "xwslSx4C7vle"
      },
      "source": [
        ""
      ],
      "execution_count": null,
      "outputs": []
    }
  ]
}